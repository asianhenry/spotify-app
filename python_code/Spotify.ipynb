{
 "cells": [
  {
   "cell_type": "code",
   "execution_count": 113,
   "metadata": {},
   "outputs": [],
   "source": [
    "import matplotlib.pyplot as plt\n",
    "import pandas as pd\n",
    "import requests\n",
    "import spotipy\n",
    "import scipy.stats as st\n",
    "from scipy.optimize import curve_fit\n",
    "import numpy as np\n",
    "from datetime import date\n",
    "from config import mongo_uri\n",
    "\n",
    "#from config import credentials\n",
    "# Import API key\n",
    "#from config import api_key\n",
    "#from config import token"
   ]
  },
  {
   "cell_type": "code",
   "execution_count": 114,
   "metadata": {},
   "outputs": [],
   "source": [
    "user_id='me'\n",
    "kind='artists' #tracks\n",
    "limit=50\n",
    "token='BQBbbuB5-7veH4ZwiaKA6cCn8ycQisscQr7r0cZwiQCc3GzBVIb2HvVbFSDmngR-5xswfh4IwcFh4hhgpBUfQq11mFh-eXR8UlC_1qvb6ixrBE1v3MSFFSdW8hfPjpJWhSF1mQeC6T3Z6Dg1jZ62u2vIHiFODCI-q1c7RnTlLnvY2O2i4sERFcd9QAwfrUIHuKLTiyQhcXfRMY-1XhTldDVsjfoLUxStckTNjvbd7sL62wjCsw3GuMTqFWT1VhHiy_Ms0ZcjZbsjTy1k'\n",
    "\n",
    "params={'time_range':'long_term','limit' : limit}\n",
    "headers={\"Accept\": \"application/json\",\"Content-Type\": \"application/json\",\"Authorization\": \n",
    "         (f\"Bearer {token}\")}\n",
    "\n",
    "#medium_term, short term\n",
    "\n",
    "base_url=f'https://api.spotify.com/v1/{user_id}/top/{kind}?'#{api_key}'    #{timeframe}/{api_key}\n"
   ]
  },
  {
   "cell_type": "code",
   "execution_count": 34,
   "metadata": {},
   "outputs": [],
   "source": [
    "#https://api.spotify.com/v1/me/top/artists?time_range=long_term&limit=20"
   ]
  },
  {
   "cell_type": "code",
   "execution_count": null,
   "metadata": {},
   "outputs": [],
   "source": [
    "# user_data = requests.get(base_url,headers = headers,params=params).json()\n",
    "# user_data['items'][0]['id']"
   ]
  },
  {
   "cell_type": "code",
   "execution_count": 92,
   "metadata": {},
   "outputs": [],
   "source": [
    "SPOTIFY_AUTH_URL = \"https://accounts.spotify.com/authorize\"\n",
    "SPOTIFY_TOKEN_URL = \"https://accounts.spotify.com/api/token\"\n",
    "SPOTIFY_API_BASE_URL = \"https://api.spotify.com\"\n",
    "API_VERSION = \"v1\"\n",
    "SPOTIFY_API_URL = \"{}/{}\".format(SPOTIFY_API_BASE_URL, API_VERSION)\n",
    "\n",
    "user_data = {}\n",
    "user_url = \"{}/me\".format(SPOTIFY_API_URL)\n",
    "user = requests.get(user_url, headers=headers).json()\n",
    "name = user['display_name']\n",
    "id = user['id']\n",
    "limit=50\n",
    "\n",
    "\n",
    "top_50_url = \"{}/me/top/artists?time_range=long_term&limit=50\".format(SPOTIFY_API_URL)\n",
    "top_50 = requests.get(top_50_url, headers=headers).json()\n",
    "\n",
    "top_50_url_tracks = \"{}/me/top/tracks?time_range=long_term&limit=50\".format(SPOTIFY_API_URL)\n",
    "top_50_artists = requests.get(top_50_url_tracks, headers=headers).json()\n",
    "\n",
    "tracks = []\n",
    "track_info = {}\n",
    "\n",
    "\n",
    "for i in range(50):\n",
    "    track_info['track'] = top_50_artists['items'][i]['name']\n",
    "    track_info['artist'] = top_50_artists['items'][i]['album']['artists'][0]['name']\n",
    "    track_info['album'] = top_50_artists['items'][i]['album']['name']\n",
    "    track_info['id'] = top_50_artists['items'][i]['id']\n",
    "    tracks.append(track_info)\n",
    "    track_info = {}\n",
    "\n",
    "# track_name = []\n",
    "# track_artist = []\n",
    "# track_album = []\n",
    "#track_\n",
    "# for i in range(50):\n",
    "#     artists.append(top_50['items'][i]['name'])\n",
    "#     genres.append(top_50['items'][i]['genres'])\n",
    "#     popularity.append(top_50['items'][i]['popularity'])\n",
    "#     artist_id.append(top_50['items'][i]['id'])\n",
    "\n",
    "\n",
    "artists=[]\n",
    "genres=[]\n",
    "artist_id = []\n",
    "popularity=[]\n",
    "for i in range(50):\n",
    "    artists.append(top_50['items'][i]['name'])\n",
    "    genres.append(top_50['items'][i]['genres'])\n",
    "    popularity.append(top_50['items'][i]['popularity'])\n",
    "    artist_id.append(top_50['items'][i]['id'])\n",
    "\n",
    "top_artists=[]\n",
    "artist_info = {}\n",
    "for i in range(50):\n",
    "    artist_info['artist'] = artists[i]\n",
    "    artist_info['id'] = artist_id[i]\n",
    "    artist_info['popularity'] = popularity[i]\n",
    "    artist_info['genres'] = genres[i]\n",
    "    top_artists.append(artist_info)\n",
    "    artist_info={}\n",
    "\n",
    "#mean_pop=popularity.mean()\n",
    "genres_complete = []\n",
    "for i in genres:\n",
    "    for a in i:\n",
    "        genres_complete.append(a)\n",
    "\n",
    "user_data['date_updated'] = date.today().strftime(\"%m/%d/%Y\")\n",
    "user_data['name'] = name\n",
    "user_data['id'] = id\n",
    "user_data['top_50_artists'] = top_artists\n",
    "user_data['top_50_tracks']= tracks\n",
    "user_data['genres'] = genres_complete"
   ]
  },
  {
   "cell_type": "code",
   "execution_count": 115,
   "metadata": {},
   "outputs": [],
   "source": [
    "#user_data"
   ]
  },
  {
   "cell_type": "code",
   "execution_count": null,
   "metadata": {},
   "outputs": [],
   "source": [
    "url = 'https://api.spotify.com/v1/me'\n",
    "my_data = requests.get(url,headers = headers).json()\n",
    "my_data = 'id'"
   ]
  },
  {
   "cell_type": "code",
   "execution_count": null,
   "metadata": {},
   "outputs": [],
   "source": [
    "user_data = requests.get(base_url,headers = headers,params=params)\n",
    "\n",
    "artists=[]\n",
    "genres=[]\n",
    "popularity=[]\n",
    "for i in range(limit):\n",
    "\n",
    "    artists.append(user_data['items'][i]['name'])\n",
    "    genres.append(user_data['items'][i]['genres'])\n",
    "    popularity.append(user_data['items'][i]['popularity'])"
   ]
  },
  {
   "cell_type": "code",
   "execution_count": null,
   "metadata": {},
   "outputs": [],
   "source": [
    "print(user_data.url)"
   ]
  },
  {
   "cell_type": "code",
   "execution_count": null,
   "metadata": {},
   "outputs": [],
   "source": [
    "user_data['items'][0]['genres']"
   ]
  },
  {
   "cell_type": "code",
   "execution_count": null,
   "metadata": {},
   "outputs": [],
   "source": [
    "top50_df=pd.DataFrame({'artist':artists,\n",
    "                       'genres':genres,\n",
    "                       'popularity':popularity})\n",
    "top50_df"
   ]
  },
  {
   "cell_type": "code",
   "execution_count": null,
   "metadata": {},
   "outputs": [],
   "source": [
    "#top50_df['genres'].value_counts\n",
    "genres = pd.Series([x for item in top50_df.genres for x in item]).value_counts().reset_index()\n",
    "genres=genres.rename(columns={'index':'genre',0:'count'})\n",
    "genres.head(20)\n",
    "#genre_list = genres['genre'].tolist()\n",
    "#genre_list = sorted(genre_list)\n",
    "#genre_list\n",
    "#len(genre_list)"
   ]
  },
  {
   "cell_type": "code",
   "execution_count": null,
   "metadata": {},
   "outputs": [],
   "source": [
    "#use these columns for parameters for the pie chart\n",
    "counts = top_genres['count']\n",
    "genres = top_genres['genre']\n",
    "#explode = \n",
    "\n",
    "#found a bunch of colors here\n",
    "#https://matplotlib.org/3.1.0/gallery/color/named_colors.html\n",
    "#colors = [\"magenta\",\"deepskyblue\"]\n",
    "#contruct plot\n",
    "plt.figure(figsize = (5,5))\n",
    "plt.pie(counts,labels=genres, autopct=\"%.1f%%\", )\n",
    "#plt.title(\"Mice Gender Distribution\")\n",
    "plt.axis(\"equal\")\n",
    "plt.show()"
   ]
  },
  {
   "cell_type": "code",
   "execution_count": null,
   "metadata": {},
   "outputs": [],
   "source": []
  },
  {
   "cell_type": "code",
   "execution_count": null,
   "metadata": {
    "scrolled": true
   },
   "outputs": [],
   "source": [
    "popularity_df=top50_df.sort_values('popularity',ascending=False)\n",
    "popularity_df"
   ]
  },
  {
   "cell_type": "code",
   "execution_count": null,
   "metadata": {},
   "outputs": [],
   "source": [
    "mean_pop=popularity_df.mean()\n",
    "print(popularity_df.mean())"
   ]
  },
  {
   "cell_type": "code",
   "execution_count": null,
   "metadata": {},
   "outputs": [],
   "source": [
    "monthly_listen=[31136355,19892244,5786789,19696892,8810802,4920540,6070574,2326642,4342067,7287210,2764446,2604646,\n",
    "                4348878,4560359,2807877,1711729,2132838,2207593,1977451,1904265,999429,1423244,1654735,1925133,\n",
    "               1445701,945814,1793936,1461294,1458824,820964,1734413,855722,783786,1184485,559604,928138,1055185,\n",
    "               853462,1420310,1021964,436136,869287,896391,678255,307237,304716,374888,106790,337555,12476]"
   ]
  },
  {
   "cell_type": "code",
   "execution_count": null,
   "metadata": {},
   "outputs": [],
   "source": [
    "len(monthly_listen)"
   ]
  },
  {
   "cell_type": "code",
   "execution_count": null,
   "metadata": {},
   "outputs": [],
   "source": [
    "poppy=popularity_df['popularity'].tolist()\n",
    "\n",
    "pops=[97,95,91,95,84,89,89,73,83,87,89,91,86,78,86]\n",
    "listens=[60696365,55170241,41987269,48867520,21692661,21024536,21487306,7642605,1704122,24823631,\n",
    "        19651875,35018530,15602696,7057663,28074532]\n",
    "\n",
    "poppy=poppy+pops\n",
    "monthly_listen=monthly_listen+listens\n",
    "\n",
    "x_axis=poppy\n",
    "y_axis=monthly_listen\n",
    "len(y_axis)"
   ]
  },
  {
   "cell_type": "code",
   "execution_count": null,
   "metadata": {},
   "outputs": [],
   "source": [
    "#https://open.spotify.com/artist/6S2OmqARrzebs0tKUEyXyp?si=NHujpOOmS_i08KhJARSZEg"
   ]
  },
  {
   "cell_type": "code",
   "execution_count": null,
   "metadata": {},
   "outputs": [],
   "source": [
    "def exponential(x, a, b):\n",
    "    return a*np.exp(b*x)"
   ]
  },
  {
   "cell_type": "code",
   "execution_count": null,
   "metadata": {},
   "outputs": [],
   "source": [
    "pars, cov = curve_fit(f=exponential, xdata=x_axis, ydata=y_axis, p0=[0, 0], bounds=(-np.inf, np.inf))"
   ]
  },
  {
   "cell_type": "code",
   "execution_count": null,
   "metadata": {},
   "outputs": [],
   "source": [
    "x1=np.arange(min(poppy),max(poppy)+1,1)\n",
    "line_1 = pars[0]*np.exp(pars[1]*x1)"
   ]
  },
  {
   "cell_type": "code",
   "execution_count": null,
   "metadata": {},
   "outputs": [],
   "source": [
    "listeners=pars[0]*np.exp(pars[1]*mean_pop)\n",
    "int(round(listeners,0))"
   ]
  },
  {
   "cell_type": "code",
   "execution_count": null,
   "metadata": {},
   "outputs": [],
   "source": [
    "plt.figure(figsize=(10,7))\n",
    "plt.yticks(np.arange(0,80000000,5000000))\n",
    "plt.scatter(x_axis,y_axis)\n",
    "plt.ylabel('Monthly Listeners\\n')\n",
    "plt.xlabel('\\nPopularity')\n",
    "ax = plt.gca()\n",
    "ax.get_yaxis().set_major_formatter(plt.FuncFormatter(lambda x, loc: \"{:,}\".format(int(x))))\n",
    "\n",
    "plt.plot(mean_pop,listeners,markerfacecolor='red',marker=\"o\",markersize=10)\n",
    "plt.plot(x1, line_1, linestyle='--', linewidth=1, color='black')\n",
    "plt.show()"
   ]
  },
  {
   "cell_type": "code",
   "execution_count": null,
   "metadata": {},
   "outputs": [],
   "source": [
    "#genres['genre'] = genres['genre'].replace({'korean pop': 'k-pop',\n",
    "#                                           'k-pop girl group':'k-pop',\n",
    "#                                           'anime score':'anime',\n",
    "#                                           'anime rock':'anime'})\n",
    "top_genres=genres.iloc[:30,:]\n",
    "#genres['count']"
   ]
  },
  {
   "cell_type": "code",
   "execution_count": null,
   "metadata": {},
   "outputs": [],
   "source": [
    "artist_list = [i for i in top50_df['artist']]"
   ]
  },
  {
   "cell_type": "code",
   "execution_count": null,
   "metadata": {},
   "outputs": [],
   "source": [
    "artist_list"
   ]
  },
  {
   "cell_type": "code",
   "execution_count": null,
   "metadata": {},
   "outputs": [],
   "source": [
    "genres = [i for i in top50_df['genres']]"
   ]
  },
  {
   "cell_type": "code",
   "execution_count": null,
   "metadata": {},
   "outputs": [],
   "source": [
    "genres_complete = []\n",
    "for i in genres:\n",
    "    for a in i:\n",
    "        genres_complete.append(a)"
   ]
  },
  {
   "cell_type": "code",
   "execution_count": null,
   "metadata": {},
   "outputs": [],
   "source": [
    "#top tracks\n",
    "user_id='me'\n",
    "kind='tracks' #tracks\n",
    "limit=50\n",
    "token='BQA5njSRX8m-4nZmUK44XyMPOkL_uCnVKh8Zy_z6DhgY_M9-jCm7He3DrFgRivLCcbOxMug4iqTjq4wOemMkRr07qENEmFT1_nG23fH1CuX0JUwtkPqlqSGXhPPdTvMcClbCWQPyRvOFYNhIJUGolq7BVaAFmIEceiXD_FfcMpuV3hnJ38_s8VC1va4aRCrBH5ipSZtCULC8Qq4EiXa6EDmMZxcVGG1YgKsPZUQCsngAbSVPadoBahAQ_ylo4oaQ2K7PFwd0Wtp5klmW'\n",
    "\n",
    "params={'time_range':'long_term','limit' : limit}\n",
    "headers={\"Accept\": \"application/json\",\"Content-Type\": \"application/json\",\"Authorization\": \n",
    "         (f\"Bearer {token}\")}\n",
    "\n",
    "#medium_term, short term\n",
    "\n",
    "base_url=f'https://api.spotify.com/v1/{user_id}/top/{kind}?'"
   ]
  },
  {
   "cell_type": "code",
   "execution_count": null,
   "metadata": {},
   "outputs": [],
   "source": [
    "user_data = requests.get(base_url,headers = headers,params=params).json()"
   ]
  },
  {
   "cell_type": "code",
   "execution_count": null,
   "metadata": {},
   "outputs": [],
   "source": [
    "user_data"
   ]
  },
  {
   "cell_type": "code",
   "execution_count": null,
   "metadata": {},
   "outputs": [],
   "source": [
    "#track name\n",
    "user_data['items'][0]['name']"
   ]
  },
  {
   "cell_type": "code",
   "execution_count": null,
   "metadata": {},
   "outputs": [],
   "source": [
    "#artist\n",
    "user_data['items'][0]['album']['artists'][0]['name']"
   ]
  },
  {
   "cell_type": "code",
   "execution_count": null,
   "metadata": {},
   "outputs": [],
   "source": [
    "#album\n",
    "user_data['items'][0]['album']['name']"
   ]
  },
  {
   "cell_type": "code",
   "execution_count": null,
   "metadata": {},
   "outputs": [],
   "source": [
    "#track id\n",
    "user_data['items'][0]['id']"
   ]
  },
  {
   "cell_type": "code",
   "execution_count": null,
   "metadata": {},
   "outputs": [],
   "source": [
    "tracks = []\n",
    "track_info = {}\n",
    "for i in range(50):\n",
    "    track_info['track'] = user_data['items'][i]['name']\n",
    "    track_info['artist'] = user_data['items'][i]['album']['artists'][0]['name']\n",
    "    track_info['album'] = user_data['items'][i]['album']['name']\n",
    "    track_info['id'] = user_data['items'][i]['id']\n",
    "    tracks.append(track_info)\n",
    "    track_info = {}\n",
    "    "
   ]
  },
  {
   "cell_type": "code",
   "execution_count": null,
   "metadata": {},
   "outputs": [],
   "source": [
    "tracks"
   ]
  },
  {
   "cell_type": "code",
   "execution_count": 118,
   "metadata": {},
   "outputs": [],
   "source": [
    "import pymongo\n",
    "import dns\n",
    "client = pymongo.MongoClient(mongo_uri)\n",
    "db = client.test"
   ]
  },
  {
   "cell_type": "code",
   "execution_count": 14,
   "metadata": {},
   "outputs": [
    {
     "name": "stdout",
     "output_type": "stream",
     "text": [
      "spotify\n",
      "admin\n",
      "local\n"
     ]
    }
   ],
   "source": [
    "for name in client.list_database_names():  \n",
    "    print(name) "
   ]
  },
  {
   "cell_type": "code",
   "execution_count": 117,
   "metadata": {},
   "outputs": [],
   "source": [
    "#client.spotify['user-data'].insert_one(user_data)"
   ]
  },
  {
   "cell_type": "code",
   "execution_count": 116,
   "metadata": {},
   "outputs": [],
   "source": [
    "# for user_data in client.spotify['user-data'].find():\n",
    "#     print(user_data)"
   ]
  },
  {
   "cell_type": "code",
   "execution_count": 59,
   "metadata": {},
   "outputs": [
    {
     "data": {
      "text/plain": [
       "'1275175786'"
      ]
     },
     "execution_count": 59,
     "metadata": {},
     "output_type": "execute_result"
    }
   ],
   "source": [
    "client.spotify['user-data'].find()[0]['id']"
   ]
  },
  {
   "cell_type": "code",
   "execution_count": 65,
   "metadata": {},
   "outputs": [],
   "source": [
    "try:\n",
    "    client.spotify['user-data'].replace_one(\n",
    "    {\"id\":user_data['id']},user_data) \n",
    "except:\n",
    "    client.spotify['user-data'].insert_one(user_data)"
   ]
  },
  {
   "cell_type": "code",
   "execution_count": 101,
   "metadata": {},
   "outputs": [],
   "source": [
    "mongo_data = user_data.copy()"
   ]
  },
  {
   "cell_type": "code",
   "execution_count": 81,
   "metadata": {},
   "outputs": [],
   "source": [
    "#mongo_data"
   ]
  },
  {
   "cell_type": "code",
   "execution_count": 23,
   "metadata": {},
   "outputs": [],
   "source": [
    "try:\n",
    "    client.spotify['user-data'].replace_one(\n",
    "    {\"id\":mongo_data['id']},mongo_data) \n",
    "except:\n",
    "    client.spotify['user-data'].insert_one(mongo_data)"
   ]
  },
  {
   "cell_type": "code",
   "execution_count": 24,
   "metadata": {},
   "outputs": [
    {
     "data": {
      "text/plain": [
       "<pymongo.results.UpdateResult at 0x2391053ec08>"
      ]
     },
     "execution_count": 24,
     "metadata": {},
     "output_type": "execute_result"
    }
   ],
   "source": [
    "client.spotify['user-data'].replace_one(\n",
    "    {\"id\":mongo_data['id']},mongo_data)"
   ]
  },
  {
   "cell_type": "code",
   "execution_count": 94,
   "metadata": {},
   "outputs": [
    {
     "data": {
      "text/plain": [
       "<pymongo.results.InsertOneResult at 0x2390f287ec8>"
      ]
     },
     "execution_count": 94,
     "metadata": {},
     "output_type": "execute_result"
    }
   ],
   "source": [
    "client.spotify['user-data'].insert_one(mongo_data)"
   ]
  },
  {
   "cell_type": "code",
   "execution_count": 103,
   "metadata": {},
   "outputs": [],
   "source": [
    "spotify_data = client.spotify['user-data'].find()\n",
    "\n",
    "for i in range(client.spotify['user-data'].count_documents({})):\n",
    "    try:\n",
    "        if mongo_data['id'] == str(spotify_data[i]['id']):\n",
    "            client.spotify['user-data'].replace_one(\n",
    "            {\"id\":mongo_data['id']},mongo_data)\n",
    "            break\n",
    "        else:\n",
    "            client.spotify['user-data'].insert_one(mongo_data)\n",
    "            break\n",
    "    except:\n",
    "        pass"
   ]
  },
  {
   "cell_type": "code",
   "execution_count": 120,
   "metadata": {},
   "outputs": [],
   "source": [
    "#mongo_data"
   ]
  },
  {
   "cell_type": "code",
   "execution_count": 75,
   "metadata": {},
   "outputs": [
    {
     "data": {
      "text/plain": [
       "'1275175786'"
      ]
     },
     "execution_count": 75,
     "metadata": {},
     "output_type": "execute_result"
    }
   ],
   "source": [
    "spotify_data[0]['id']"
   ]
  },
  {
   "cell_type": "code",
   "execution_count": 99,
   "metadata": {},
   "outputs": [],
   "source": [
    "mongo_data = {'id' : '1275175786', 'test' : 'True', 'zz' : 5245}"
   ]
  },
  {
   "cell_type": "code",
   "execution_count": 107,
   "metadata": {},
   "outputs": [
    {
     "name": "stdout",
     "output_type": "stream",
     "text": [
      "<class 'str'>\n",
      "<class 'str'>\n",
      "<class 'str'>\n"
     ]
    }
   ],
   "source": [
    "for i in range(client.spotify['user-data'].count_documents({})):\n",
    "    print(type(spotify_data[i]['id']))"
   ]
  },
  {
   "cell_type": "code",
   "execution_count": 109,
   "metadata": {},
   "outputs": [
    {
     "data": {
      "text/plain": [
       "str"
      ]
     },
     "execution_count": 109,
     "metadata": {},
     "output_type": "execute_result"
    }
   ],
   "source": [
    "type(mongo_data['id'])"
   ]
  },
  {
   "cell_type": "code",
   "execution_count": 110,
   "metadata": {},
   "outputs": [
    {
     "data": {
      "text/plain": [
       "'1275175786'"
      ]
     },
     "execution_count": 110,
     "metadata": {},
     "output_type": "execute_result"
    }
   ],
   "source": [
    "str(spotify_data[i]['id'])"
   ]
  },
  {
   "cell_type": "code",
   "execution_count": 124,
   "metadata": {},
   "outputs": [
    {
     "data": {
      "text/plain": [
       "<pymongo.results.UpdateResult at 0x239109a16c8>"
      ]
     },
     "execution_count": 124,
     "metadata": {},
     "output_type": "execute_result"
    }
   ],
   "source": [
    "client.spotify['user-data'].replace_one(\n",
    "            {\"id\":mongo_data['id']},mongo_data, upsert = True)"
   ]
  },
  {
   "cell_type": "code",
   "execution_count": null,
   "metadata": {},
   "outputs": [],
   "source": []
  }
 ],
 "metadata": {
  "kernelspec": {
   "display_name": "Python 3",
   "language": "python",
   "name": "python3"
  },
  "language_info": {
   "codemirror_mode": {
    "name": "ipython",
    "version": 3
   },
   "file_extension": ".py",
   "mimetype": "text/x-python",
   "name": "python",
   "nbconvert_exporter": "python",
   "pygments_lexer": "ipython3",
   "version": "3.7.4"
  }
 },
 "nbformat": 4,
 "nbformat_minor": 2
}
